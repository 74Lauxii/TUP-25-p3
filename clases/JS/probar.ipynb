{
 "cells": [
  {
   "cell_type": "markdown",
   "id": "69263192",
   "metadata": {},
   "source": [
    "Los tipos basicos en JS son:\n",
    "- Number            (int, double, float)\n",
    "- String            (cadena de texto)\n",
    "- Boolean           (true/false)\n",
    "- Undefined         (sin valor asignado)\n",
    "- Null              (valor nulo)"
   ]
  },
  {
   "cell_type": "code",
   "execution_count": null,
   "id": "f1e660e1",
   "metadata": {},
   "outputs": [],
   "source": [
    "let a = 10.0\n",
    "console.log(typeof a) // \"number\" \n",
    "\n",
    "let b = \"hello\"\n",
    "console.log(typeof b) // \"string\"\n",
    "\n",
    "let c = true\n",
    "console.log(typeof c) // \"boolean\"\n",
    "\n",
    "let d = null\n",
    "console.log(typeof d) // \"object\" (this is a known JavaScript quirk)\n",
    "\n",
    "let e = undefined\n",
    "console.log(typeof e) // \"undefined\"\n",
    "\n",
    "let f = Symbol(\"unique\")\n",
    "console.log(typeof f) // \"symbol\"\n",
    "\n",
    "// Operadores aritméticos\n",
    "let x = 5\n",
    "let y = 2\n",
    "console.log(x + y) // 7\n",
    "console.log(x - y) // 3\n",
    "console.log(x * y) // 10\n",
    "console.log(x / y) // 2.5\n",
    "console.log(x % y) // 1 (módulo)\n",
    "console.log(x ** y) // 25 (exponencial)"
   ]
  },
  {
   "cell_type": "code",
   "execution_count": null,
   "id": "747911b7",
   "metadata": {},
   "outputs": [],
   "source": []
  }
 ],
 "metadata": {
  "kernelspec": {
   "display_name": "JavaScript (Node.js)",
   "language": "javascript",
   "name": "javascript"
  },
  "language_info": {
   "file_extension": ".js",
   "mimetype": "application/javascript",
   "name": "javascript",
   "version": "20.18.1"
  }
 },
 "nbformat": 4,
 "nbformat_minor": 5
}
